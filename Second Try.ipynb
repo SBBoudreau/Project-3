{
 "cells": [
  {
   "cell_type": "code",
   "execution_count": 1,
   "metadata": {},
   "outputs": [],
   "source": [
    "# Dependencies to Visualize the model\n",
    "%matplotlib inline\n",
    "from IPython.display import Image, SVG\n",
    "import matplotlib.pyplot as plt\n",
    "import numpy as np\n",
    "np.random.seed(0)\n",
    "\n",
    "# Filepaths, numpy, and Tensorflow\n",
    "import os\n",
    "import numpy as np\n",
    "import tensorflow as tf\n",
    "from tensorflow import keras\n",
    "\n",
    "# Sklearn scaling\n",
    "from sklearn.preprocessing import MinMaxScaler\n",
    "\n",
    "# Keras\n",
    "from keras.models import Sequential\n",
    "from keras.utils import to_categorical\n",
    "from keras import layers\n",
    "from keras.datasets import mnist"
   ]
  },
  {
   "cell_type": "code",
   "execution_count": 2,
   "metadata": {},
   "outputs": [
    {
     "name": "stdout",
     "output_type": "stream",
     "text": [
      "[PosixPath('dataset/Zapdos'), PosixPath('dataset/Kadabra'), PosixPath('dataset/Omanyte'), PosixPath('dataset/Shellder'), PosixPath('dataset/Bellsprout'), PosixPath('dataset/Eevee'), PosixPath('dataset/Jolteon'), PosixPath('dataset/Hypno'), PosixPath('dataset/Seel'), PosixPath('dataset/Zubat'), PosixPath('dataset/Graveler'), PosixPath('dataset/Magneton'), PosixPath('dataset/Abra'), PosixPath('dataset/Kingler'), PosixPath('dataset/Alakazam'), PosixPath('dataset/Clefable'), PosixPath('dataset/Gyarados'), PosixPath('dataset/Poliwag'), PosixPath('dataset/Rapidash'), PosixPath('dataset/Machamp'), PosixPath('dataset/Pinsir'), PosixPath('dataset/Muk'), PosixPath('dataset/Seaking'), PosixPath('dataset/Magikarp'), PosixPath('dataset/Goldeen'), PosixPath('dataset/Venusaur'), PosixPath('dataset/Flareon'), PosixPath('dataset/Jigglypuff'), PosixPath('dataset/Doduo'), PosixPath('dataset/Weedle'), PosixPath('dataset/Vileplume'), PosixPath('dataset/Arcanine'), PosixPath('dataset/Tentacruel'), PosixPath('dataset/Gloom'), PosixPath('dataset/Charmeleon'), PosixPath('dataset/Articuno'), PosixPath('dataset/Sandshrew'), PosixPath('dataset/Spearow'), PosixPath('dataset/Marowak'), PosixPath('dataset/Clefairy'), PosixPath('dataset/Snorlax'), PosixPath('dataset/Scyther'), PosixPath('dataset/Primeape'), PosixPath('dataset/Diglett'), PosixPath('dataset/Onix'), PosixPath('dataset/Mankey'), PosixPath('dataset/Rattata'), PosixPath('dataset/Voltorb'), PosixPath('dataset/Gengar'), PosixPath('dataset/Gastly'), PosixPath('dataset/Cloyster'), PosixPath('dataset/Weepinbell'), PosixPath('dataset/Dragonair'), PosixPath('dataset/Squirtle'), PosixPath('dataset/Pikachu'), PosixPath('dataset/Victreebel'), PosixPath('dataset/Charmander'), PosixPath('dataset/Staryu'), PosixPath('dataset/Venonat'), PosixPath('dataset/Vaporeon'), PosixPath('dataset/Ivysaur'), PosixPath('dataset/Krabby'), PosixPath('dataset/Drowzee'), PosixPath('dataset/Sandslash'), PosixPath('dataset/Kangaskhan'), PosixPath('dataset/Chansey'), PosixPath('dataset/Butterfree'), PosixPath('dataset/Starmie'), PosixPath('dataset/Magmar'), PosixPath('dataset/Beedrill'), PosixPath('dataset/Ninetales'), PosixPath('dataset/Magnemite'), PosixPath('dataset/Metapod'), PosixPath('dataset/Electrode'), PosixPath('dataset/Raichu'), PosixPath('dataset/Fearow'), PosixPath('dataset/Mewtwo'), PosixPath('dataset/Kabuto'), PosixPath('dataset/Pidgeotto'), PosixPath('dataset/Hitmonchan'), PosixPath('dataset/Blastoise'), PosixPath('dataset/Weezing'), PosixPath('dataset/Golbat'), PosixPath('dataset/Seadra'), PosixPath('dataset/Rhyhorn'), PosixPath('dataset/Moltres'), PosixPath('dataset/Golduck'), PosixPath('dataset/Kabutops'), PosixPath('dataset/Aerodactyl'), PosixPath('dataset/Haunter'), PosixPath('dataset/Machop'), PosixPath('dataset/Koffing'), PosixPath('dataset/Pidgeot'), PosixPath('dataset/Wigglytuff'), PosixPath('dataset/Porygon'), PosixPath('dataset/Vulpix'), PosixPath('dataset/Dugtrio'), PosixPath('dataset/Ditto'), PosixPath('dataset/Raticate'), PosixPath('dataset/Geodude'), PosixPath('dataset/Tentacool'), PosixPath('dataset/Horsea'), PosixPath('dataset/Oddish'), PosixPath('dataset/Machoke'), PosixPath('dataset/Lapras'), PosixPath('dataset/Poliwrath'), PosixPath('dataset/Omastar'), PosixPath('dataset/Slowpoke'), PosixPath('dataset/Bulbasaur'), PosixPath('dataset/Growlithe'), PosixPath('dataset/Ponyta'), PosixPath('dataset/Parasect'), PosixPath('dataset/Dodrio'), PosixPath('dataset/Meowth'), PosixPath('dataset/Exeggutor'), PosixPath('dataset/Persian'), PosixPath('dataset/Psyduck'), PosixPath('dataset/Tauros'), PosixPath('dataset/Pidgey'), PosixPath('dataset/Electabuzz'), PosixPath('dataset/Dewgong'), PosixPath('dataset/Wartortle'), PosixPath('dataset/Nidoking'), PosixPath('dataset/Grimer'), PosixPath('dataset/Ekans'), PosixPath('dataset/Caterpie'), PosixPath('dataset/Tangela'), PosixPath('dataset/Kakuna'), PosixPath('dataset/Golem'), PosixPath('dataset/Slowbro'), PosixPath('dataset/MrMime'), PosixPath('dataset/Jynx'), PosixPath('dataset/Mew'), PosixPath('dataset/Paras'), PosixPath('dataset/Hitmonlee'), PosixPath('dataset/Exeggcute'), PosixPath('dataset/Arbok'), PosixPath('dataset/Venomoth'), PosixPath('dataset/Dratini'), PosixPath('dataset/Cubone'), PosixPath('dataset/Rhydon'), PosixPath('dataset/Dragonite'), PosixPath('dataset/Nidorino'), PosixPath('dataset/Lickitung'), PosixPath('dataset/Nidorina'), PosixPath('dataset/Charizard'), PosixPath('dataset/Poliwhirl'), PosixPath('dataset/Nidoqueen'), PosixPath('dataset/Farfetchd')]\n"
     ]
    }
   ],
   "source": [
    "from pathlib import Path\n",
    "\n",
    "root_dir = \"dataset\"\n",
    "dir_list = [x for x in Path(root_dir).iterdir()]\n",
    "\n",
    "labels = [x.name for x in dir_list if '.' not in x.name] \n",
    "\n",
    "print(dir_list)"
   ]
  },
  {
   "cell_type": "markdown",
   "metadata": {},
   "source": [
    "### Looping through to get Training Images"
   ]
  },
  {
   "cell_type": "code",
   "execution_count": 53,
   "metadata": {},
   "outputs": [],
   "source": [
    "from keras.preprocessing import image\n",
    "image_size = (128,128)\n",
    "from keras.preprocessing.image import img_to_array"
   ]
  },
  {
   "cell_type": "code",
   "execution_count": 54,
   "metadata": {},
   "outputs": [
    {
     "name": "stdout",
     "output_type": "stream",
     "text": [
      "Found 10658 files belonging to 149 classes.\n",
      "Using 8527 files for training.\n",
      "Found 10658 files belonging to 149 classes.\n",
      "Using 2131 files for validation.\n"
     ]
    }
   ],
   "source": [
    "##(X_train, y_train) filepath = \"../Images/test2.png\"\n",
    "from keras.preprocessing import image\n",
    "\n",
    "from keras.preprocessing import image_dataset_from_directory\n",
    "X_train = []\n",
    "y_train = []\n",
    "waldo_images = []\n",
    "first = 1\n",
    "second = 0\n",
    "third = 0\n",
    "\n",
    "images = image_dataset_from_directory(\n",
    "  Path('dataset'),\n",
    "  validation_split=0.2,\n",
    "  subset=\"training\",\n",
    "  seed=42,\n",
    "  image_size=(image_size),\n",
    "  batch_size=32)\n",
    "\n",
    "val_ds = image_dataset_from_directory(\n",
    "  Path('dataset'),\n",
    "  validation_split=0.2,\n",
    "  subset=\"validation\",\n",
    "  seed=42,\n",
    "  image_size=(image_size),\n",
    "  batch_size=32)\n"
   ]
  },
  {
   "cell_type": "code",
   "execution_count": 55,
   "metadata": {},
   "outputs": [
    {
     "name": "stdout",
     "output_type": "stream",
     "text": [
      "149\n"
     ]
    }
   ],
   "source": [
    "class_names = images.class_names\n",
    "num=len(class_names)\n",
    "print(len(class_names))\n"
   ]
  },
  {
   "cell_type": "markdown",
   "metadata": {},
   "source": [
    "## Building Model"
   ]
  },
  {
   "cell_type": "code",
   "execution_count": 56,
   "metadata": {},
   "outputs": [],
   "source": [
    "# Create an empty sequential model\n",
    "model = Sequential()"
   ]
  },
  {
   "cell_type": "code",
   "execution_count": 57,
   "metadata": {},
   "outputs": [],
   "source": [
    "# Add the first layer where the input dimensions are the 784 pixel values\n",
    "# We can also choose our activation function. `relu` is common\n",
    "model.add(layers.experimental.preprocessing.Rescaling(1./255, input_shape=(128, 128, 3)))\n",
    "\n",
    "model.add(layers.Conv2D(128,(3,3), activation=\"relu\", input_shape=(128,128,3)))"
   ]
  },
  {
   "cell_type": "code",
   "execution_count": 46,
   "metadata": {},
   "outputs": [],
   "source": [
    "# Add a second, hidden layer\n",
    "model.add(layers.MaxPooling2D((2,2)))"
   ]
  },
  {
   "cell_type": "code",
   "execution_count": 58,
   "metadata": {},
   "outputs": [],
   "source": [
    "from tensorflow.keras.models import Sequential\n",
    "data_augmentation = keras.Sequential(\n",
    "  [\n",
    "    layers.experimental.preprocessing.RandomFlip(\"horizontal\", \n",
    "                                                 input_shape=(128, \n",
    "                                                              128,\n",
    "                                                              3)),\n",
    "    layers.experimental.preprocessing.RandomRotation(0.1),\n",
    "    layers.experimental.preprocessing.RandomZoom(0.1),\n",
    "  ]\n",
    ")"
   ]
  },
  {
   "cell_type": "code",
   "execution_count": 59,
   "metadata": {},
   "outputs": [
    {
     "name": "stdout",
     "output_type": "stream",
     "text": [
      "WARNING:tensorflow:Model was constructed with shape (None, 128, 128, 3) for input KerasTensor(type_spec=TensorSpec(shape=(None, 128, 128, 3), dtype=tf.float32, name='random_flip_2_input'), name='random_flip_2_input', description=\"created by layer 'random_flip_2_input'\"), but it was called on an input with incompatible shape (None, 126, 126, 128).\n"
     ]
    }
   ],
   "source": [
    "# Add our final output layer where the number of nodes \n",
    "# corresponds to the number of y labels\n",
    "model.add(data_augmentation)\n",
    "model.add(layers.Conv2D(128,(3,3), activation=\"relu\"))\n",
    "model.add(layers.MaxPooling2D((2,2)))\n",
    "model.add(layers.Flatten())\n",
    "model.add(layers.Dropout(0.2))\n",
    "model.add(layers.Dense(64, activation=\"relu\"))\n",
    "model.add(layers.Dense(num))"
   ]
  },
  {
   "cell_type": "code",
   "execution_count": null,
   "metadata": {},
   "outputs": [],
   "source": []
  },
  {
   "cell_type": "code",
   "execution_count": 60,
   "metadata": {},
   "outputs": [
    {
     "name": "stdout",
     "output_type": "stream",
     "text": [
      "Model: \"sequential_4\"\n",
      "_________________________________________________________________\n",
      "Layer (type)                 Output Shape              Param #   \n",
      "=================================================================\n",
      "rescaling_2 (Rescaling)      (None, 128, 128, 3)       0         \n",
      "_________________________________________________________________\n",
      "conv2d_5 (Conv2D)            (None, 126, 126, 128)     3584      \n",
      "_________________________________________________________________\n",
      "sequential_5 (Sequential)    (None, 128, 128, 3)       0         \n",
      "_________________________________________________________________\n",
      "conv2d_6 (Conv2D)            (None, 124, 124, 128)     147584    \n",
      "_________________________________________________________________\n",
      "max_pooling2d_4 (MaxPooling2 (None, 62, 62, 128)       0         \n",
      "_________________________________________________________________\n",
      "flatten_2 (Flatten)          (None, 492032)            0         \n",
      "_________________________________________________________________\n",
      "dropout_1 (Dropout)          (None, 492032)            0         \n",
      "_________________________________________________________________\n",
      "dense_4 (Dense)              (None, 64)                31490112  \n",
      "_________________________________________________________________\n",
      "dense_5 (Dense)              (None, 149)               9685      \n",
      "=================================================================\n",
      "Total params: 31,650,965\n",
      "Trainable params: 31,650,965\n",
      "Non-trainable params: 0\n",
      "_________________________________________________________________\n"
     ]
    }
   ],
   "source": [
    "model.summary()"
   ]
  },
  {
   "cell_type": "code",
   "execution_count": 61,
   "metadata": {},
   "outputs": [],
   "source": [
    "from keras.losses import SparseCategoricalCrossentropy\n",
    "model.compile(loss=SparseCategoricalCrossentropy(from_logits=True), optimizer=\"adam\", metrics=['accuracy'])"
   ]
  },
  {
   "cell_type": "code",
   "execution_count": 64,
   "metadata": {},
   "outputs": [
    {
     "name": "stdout",
     "output_type": "stream",
     "text": [
      "Epoch 1/15\n",
      "267/267 - 810s - loss: 2.1311 - accuracy: 0.4643 - val_loss: 4.3335 - val_accuracy: 0.2914\n",
      "Epoch 2/15\n",
      "267/267 - 821s - loss: 2.0792 - accuracy: 0.4766 - val_loss: 4.3034 - val_accuracy: 0.2750\n",
      "Epoch 3/15\n",
      "267/267 - 792s - loss: 2.0558 - accuracy: 0.4813 - val_loss: 4.3699 - val_accuracy: 0.2877\n",
      "Epoch 4/15\n",
      "267/267 - 792s - loss: 2.0334 - accuracy: 0.4801 - val_loss: 4.3337 - val_accuracy: 0.2886\n",
      "Epoch 5/15\n",
      "267/267 - 796s - loss: 1.9809 - accuracy: 0.4917 - val_loss: 4.2475 - val_accuracy: 0.2820\n",
      "Epoch 6/15\n",
      "267/267 - 797s - loss: 1.9776 - accuracy: 0.4920 - val_loss: 4.4211 - val_accuracy: 0.2961\n",
      "Epoch 7/15\n",
      "267/267 - 790s - loss: 1.9430 - accuracy: 0.5012 - val_loss: 4.5980 - val_accuracy: 0.2839\n",
      "Epoch 8/15\n",
      "267/267 - 791s - loss: 1.9401 - accuracy: 0.5006 - val_loss: 4.5732 - val_accuracy: 0.2961\n",
      "Epoch 9/15\n",
      "267/267 - 793s - loss: 1.8952 - accuracy: 0.5079 - val_loss: 4.5275 - val_accuracy: 0.2994\n",
      "Epoch 10/15\n",
      "267/267 - 793s - loss: 1.8759 - accuracy: 0.5182 - val_loss: 4.3357 - val_accuracy: 0.2900\n",
      "Epoch 11/15\n",
      "267/267 - 1768s - loss: 1.8445 - accuracy: 0.5232 - val_loss: 4.6254 - val_accuracy: 0.2980\n",
      "Epoch 12/15\n",
      "267/267 - 798s - loss: 1.8240 - accuracy: 0.5245 - val_loss: 4.8002 - val_accuracy: 0.2886\n",
      "Epoch 13/15\n",
      "267/267 - 807s - loss: 1.7747 - accuracy: 0.5418 - val_loss: 4.5079 - val_accuracy: 0.2966\n",
      "Epoch 14/15\n",
      "267/267 - 812s - loss: 1.7540 - accuracy: 0.5452 - val_loss: 4.8319 - val_accuracy: 0.2994\n",
      "Epoch 15/15\n",
      "267/267 - 849s - loss: 1.7730 - accuracy: 0.5327 - val_loss: 4.5844 - val_accuracy: 0.2989\n"
     ]
    },
    {
     "data": {
      "text/plain": [
       "<tensorflow.python.keras.callbacks.History at 0x7fc1f6514ad0>"
      ]
     },
     "execution_count": 64,
     "metadata": {},
     "output_type": "execute_result"
    }
   ],
   "source": [
    "# Fit (train) the model\n",
    "model.fit(images, epochs=15, validation_data=val_ds, verbose=2)"
   ]
  },
  {
   "cell_type": "code",
   "execution_count": 37,
   "metadata": {},
   "outputs": [],
   "source": [
    "# Save the model\n",
    "model.save(\"pokemon_trained.h5\")"
   ]
  },
  {
   "cell_type": "code",
   "execution_count": 17,
   "metadata": {},
   "outputs": [],
   "source": [
    "# Load the model\n",
    "from keras.models import load_model\n",
    "model = load_model(\"pokemon_trained.h5\")"
   ]
  },
  {
   "cell_type": "markdown",
   "metadata": {},
   "source": [
    "## 5. Evaluating the Model\n",
    "\n",
    "We use our testing data to validate our model. This is how we determine the validity of our model (i.e. the ability to predict new and previously unseen data points)"
   ]
  },
  {
   "cell_type": "code",
   "execution_count": 18,
   "metadata": {},
   "outputs": [
    {
     "name": "stdout",
     "output_type": "stream",
     "text": [
      "67/67 - 31s - loss: 9.1396 - accuracy: 0.1807\n",
      "Loss: 9.139617919921875, Accuracy: 0.18066635727882385\n"
     ]
    }
   ],
   "source": [
    "# Evaluate the model using the training data \n",
    "model_loss, model_accuracy = model.evaluate(val_ds, verbose=2)\n",
    "print(f\"Loss: {model_loss}, Accuracy: {model_accuracy}\")"
   ]
  },
  {
   "cell_type": "markdown",
   "metadata": {},
   "source": [
    "## Random Test of Code"
   ]
  },
  {
   "cell_type": "code",
   "execution_count": null,
   "metadata": {},
   "outputs": [],
   "source": [
    "# test_images, test_labels = val_ds\n",
    "model.evaluate(val_ds, verbose=2)"
   ]
  },
  {
   "cell_type": "code",
   "execution_count": 40,
   "metadata": {},
   "outputs": [
    {
     "name": "stdout",
     "output_type": "stream",
     "text": [
      "This image most likely belongs to Hypno with a 57.10 percent confidence.\n"
     ]
    }
   ],
   "source": [
    "sunflower_url = \"https://www.google.com/url?sa=i&url=https%3A%2F%2Fpokestop.io%2Fpokemon%2Fsquirtle&psig=AOvVaw1eHdYjFG1P6NAiECi6BQBq&ust=1611081691012000&source=images&cd=vfe&ved=0CAIQjRxqFwoTCODfqJGRpu4CFQAAAAAdAAAAABAJ\"\n",
    "sunflower_path = tf.keras.utils.get_file(\"loaded_image\",origin=sunflower_url)\n",
    "#Path('dataset/Pidgeot/988f8c3307ca4a55a47e940681f63059.jpg')\n",
    "#.jpg\n",
    "#sunflower_path = tf.keras.utils.get_file('Red_sunflower', origin=sunflower_url)\n",
    "img = keras.preprocessing.image.load_img(\n",
    "    sunflower_path, target_size=(128,128)\n",
    ")\n",
    "\n",
    "img_array = keras.preprocessing.image.img_to_array(img)\n",
    "img_array = tf.expand_dims(img_array, 0) # Create a batch\n",
    "\n",
    "predictions = model.predict(img_array)\n",
    "score = tf.nn.softmax(predictions[0])\n",
    "\n",
    "print(\n",
    "    \"This image most likely belongs to {} with a {:.2f} percent confidence.\"\n",
    "    .format(class_names[np.argmax(score)], 100 * np.max(score))\n",
    ")\n",
    "\n",
    "#print(img_array)"
   ]
  },
  {
   "cell_type": "code",
   "execution_count": null,
   "metadata": {},
   "outputs": [],
   "source": []
  },
  {
   "cell_type": "code",
   "execution_count": 38,
   "metadata": {},
   "outputs": [
    {
     "ename": "TypeError",
     "evalue": "can't pickle weakref objects",
     "output_type": "error",
     "traceback": [
      "\u001b[0;31m---------------------------------------------------------------------------\u001b[0m",
      "\u001b[0;31mTypeError\u001b[0m                                 Traceback (most recent call last)",
      "\u001b[0;32m<ipython-input-38-6ab8b8fd613e>\u001b[0m in \u001b[0;36m<module>\u001b[0;34m\u001b[0m\n\u001b[1;32m      2\u001b[0m \u001b[0;34m\u001b[0m\u001b[0m\n\u001b[1;32m      3\u001b[0m \u001b[0;32mwith\u001b[0m \u001b[0mopen\u001b[0m\u001b[0;34m(\u001b[0m\u001b[0;34m'pokemon_trained.pkl'\u001b[0m\u001b[0;34m,\u001b[0m\u001b[0;34m'wb'\u001b[0m\u001b[0;34m)\u001b[0m \u001b[0;32mas\u001b[0m \u001b[0mf\u001b[0m\u001b[0;34m:\u001b[0m\u001b[0;34m\u001b[0m\u001b[0;34m\u001b[0m\u001b[0m\n\u001b[0;32m----> 4\u001b[0;31m     \u001b[0mpickle\u001b[0m\u001b[0;34m.\u001b[0m\u001b[0mdump\u001b[0m\u001b[0;34m(\u001b[0m\u001b[0mmodel\u001b[0m\u001b[0;34m,\u001b[0m \u001b[0mf\u001b[0m\u001b[0;34m)\u001b[0m\u001b[0;34m\u001b[0m\u001b[0;34m\u001b[0m\u001b[0m\n\u001b[0m",
      "\u001b[0;31mTypeError\u001b[0m: can't pickle weakref objects"
     ]
    }
   ],
   "source": []
  },
  {
   "cell_type": "code",
   "execution_count": null,
   "metadata": {},
   "outputs": [],
   "source": []
  }
 ],
 "metadata": {
  "kernelspec": {
   "display_name": "Python 3",
   "language": "python",
   "name": "python3"
  },
  "language_info": {
   "codemirror_mode": {
    "name": "ipython",
    "version": 3
   },
   "file_extension": ".py",
   "mimetype": "text/x-python",
   "name": "python",
   "nbconvert_exporter": "python",
   "pygments_lexer": "ipython3",
   "version": "3.7.6"
  }
 },
 "nbformat": 4,
 "nbformat_minor": 4
}
