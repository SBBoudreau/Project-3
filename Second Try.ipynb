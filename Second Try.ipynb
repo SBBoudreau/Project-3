{
 "cells": [
  {
   "cell_type": "code",
   "execution_count": 1,
   "metadata": {},
   "outputs": [],
   "source": [
    "# Dependencies to Visualize the model\n",
    "%matplotlib inline\n",
    "from IPython.display import Image, SVG\n",
    "import matplotlib.pyplot as plt\n",
    "import numpy as np\n",
    "np.random.seed(0)\n",
    "\n",
    "# Filepaths, numpy, and Tensorflow\n",
    "import os\n",
    "import numpy as np\n",
    "import tensorflow as tf\n",
    "from tensorflow import keras\n",
    "\n",
    "# Sklearn scaling\n",
    "from sklearn.preprocessing import MinMaxScaler\n",
    "\n",
    "# Keras\n",
    "from keras.models import Sequential\n",
    "from keras.utils import to_categorical\n",
    "from keras import layers\n",
    "from keras.datasets import mnist"
   ]
  },
  {
   "cell_type": "code",
   "execution_count": 2,
   "metadata": {},
   "outputs": [
    {
     "name": "stdout",
     "output_type": "stream",
     "text": [
      "[WindowsPath('dataset/.DS_Store'), WindowsPath('dataset/Abra'), WindowsPath('dataset/Aerodactyl'), WindowsPath('dataset/Alakazam'), WindowsPath('dataset/Arbok'), WindowsPath('dataset/Arcanine'), WindowsPath('dataset/Articuno'), WindowsPath('dataset/Beedrill'), WindowsPath('dataset/Bellsprout'), WindowsPath('dataset/Blastoise'), WindowsPath('dataset/Bulbasaur'), WindowsPath('dataset/Butterfree'), WindowsPath('dataset/Caterpie'), WindowsPath('dataset/Chansey'), WindowsPath('dataset/Charizard'), WindowsPath('dataset/Charmander'), WindowsPath('dataset/Charmeleon'), WindowsPath('dataset/Clefable'), WindowsPath('dataset/Clefairy'), WindowsPath('dataset/Cloyster'), WindowsPath('dataset/Cubone'), WindowsPath('dataset/Dewgong'), WindowsPath('dataset/Diglett'), WindowsPath('dataset/Ditto'), WindowsPath('dataset/Dodrio'), WindowsPath('dataset/Doduo'), WindowsPath('dataset/Dragonair'), WindowsPath('dataset/Dragonite'), WindowsPath('dataset/Dratini'), WindowsPath('dataset/Drowzee'), WindowsPath('dataset/Dugtrio'), WindowsPath('dataset/Eevee'), WindowsPath('dataset/Ekans'), WindowsPath('dataset/Electabuzz'), WindowsPath('dataset/Electrode'), WindowsPath('dataset/Exeggcute'), WindowsPath('dataset/Exeggutor'), WindowsPath('dataset/Farfetchd'), WindowsPath('dataset/Fearow'), WindowsPath('dataset/Flareon'), WindowsPath('dataset/Gastly'), WindowsPath('dataset/Gengar'), WindowsPath('dataset/Geodude'), WindowsPath('dataset/Gloom'), WindowsPath('dataset/Golbat'), WindowsPath('dataset/Goldeen'), WindowsPath('dataset/Golduck'), WindowsPath('dataset/Golem'), WindowsPath('dataset/Graveler'), WindowsPath('dataset/Grimer'), WindowsPath('dataset/Growlithe'), WindowsPath('dataset/Gyarados'), WindowsPath('dataset/Haunter'), WindowsPath('dataset/Hitmonchan'), WindowsPath('dataset/Hitmonlee'), WindowsPath('dataset/Horsea'), WindowsPath('dataset/Hypno'), WindowsPath('dataset/Ivysaur'), WindowsPath('dataset/Jigglypuff'), WindowsPath('dataset/Jolteon'), WindowsPath('dataset/Jynx'), WindowsPath('dataset/Kabuto'), WindowsPath('dataset/Kabutops'), WindowsPath('dataset/Kadabra'), WindowsPath('dataset/Kakuna'), WindowsPath('dataset/Kangaskhan'), WindowsPath('dataset/Kingler'), WindowsPath('dataset/Koffing'), WindowsPath('dataset/Krabby'), WindowsPath('dataset/Lapras'), WindowsPath('dataset/Lickitung'), WindowsPath('dataset/Machamp'), WindowsPath('dataset/Machoke'), WindowsPath('dataset/Machop'), WindowsPath('dataset/Magikarp'), WindowsPath('dataset/Magmar'), WindowsPath('dataset/Magnemite'), WindowsPath('dataset/Magneton'), WindowsPath('dataset/Mankey'), WindowsPath('dataset/Marowak'), WindowsPath('dataset/Meowth'), WindowsPath('dataset/Metapod'), WindowsPath('dataset/Mew'), WindowsPath('dataset/Mewtwo'), WindowsPath('dataset/Moltres'), WindowsPath('dataset/MrMime'), WindowsPath('dataset/Muk'), WindowsPath('dataset/Nidoking'), WindowsPath('dataset/Nidoqueen'), WindowsPath('dataset/Nidorina'), WindowsPath('dataset/Nidorino'), WindowsPath('dataset/Ninetales'), WindowsPath('dataset/Oddish'), WindowsPath('dataset/Omanyte'), WindowsPath('dataset/Omastar'), WindowsPath('dataset/Onix'), WindowsPath('dataset/Paras'), WindowsPath('dataset/Parasect'), WindowsPath('dataset/Persian'), WindowsPath('dataset/Pidgeot'), WindowsPath('dataset/Pidgeotto'), WindowsPath('dataset/Pidgey'), WindowsPath('dataset/Pikachu'), WindowsPath('dataset/Pinsir'), WindowsPath('dataset/Poliwag'), WindowsPath('dataset/Poliwhirl'), WindowsPath('dataset/Poliwrath'), WindowsPath('dataset/Ponyta'), WindowsPath('dataset/Porygon'), WindowsPath('dataset/Primeape'), WindowsPath('dataset/Psyduck'), WindowsPath('dataset/Raichu'), WindowsPath('dataset/Rapidash'), WindowsPath('dataset/Raticate'), WindowsPath('dataset/Rattata'), WindowsPath('dataset/Rhydon'), WindowsPath('dataset/Rhyhorn'), WindowsPath('dataset/Sandshrew'), WindowsPath('dataset/Sandslash'), WindowsPath('dataset/Scyther'), WindowsPath('dataset/Seadra'), WindowsPath('dataset/Seaking'), WindowsPath('dataset/Seel'), WindowsPath('dataset/Shellder'), WindowsPath('dataset/Slowbro'), WindowsPath('dataset/Slowpoke'), WindowsPath('dataset/Snorlax'), WindowsPath('dataset/Spearow'), WindowsPath('dataset/Squirtle'), WindowsPath('dataset/Starmie'), WindowsPath('dataset/Staryu'), WindowsPath('dataset/Tangela'), WindowsPath('dataset/Tauros'), WindowsPath('dataset/Tentacool'), WindowsPath('dataset/Tentacruel'), WindowsPath('dataset/Vaporeon'), WindowsPath('dataset/Venomoth'), WindowsPath('dataset/Venonat'), WindowsPath('dataset/Venusaur'), WindowsPath('dataset/Victreebel'), WindowsPath('dataset/Vileplume'), WindowsPath('dataset/Voltorb'), WindowsPath('dataset/Vulpix'), WindowsPath('dataset/Wartortle'), WindowsPath('dataset/Weedle'), WindowsPath('dataset/Weepinbell'), WindowsPath('dataset/Weezing'), WindowsPath('dataset/Wigglytuff'), WindowsPath('dataset/Zapdos'), WindowsPath('dataset/Zubat')]\n"
     ]
    }
   ],
   "source": [
    "from pathlib import Path\n",
    "\n",
    "root_dir = \"dataset\"\n",
    "dir_list = [x for x in Path(root_dir).iterdir()]\n",
    "\n",
    "labels = [x.name for x in dir_list if '.' not in x.name] \n",
    "\n",
    "print(dir_list)"
   ]
  },
  {
   "cell_type": "markdown",
   "metadata": {},
   "source": [
    "### Looping through to get Training Images"
   ]
  },
  {
   "cell_type": "code",
   "execution_count": 3,
   "metadata": {},
   "outputs": [],
   "source": [
    "from keras.preprocessing import image\n",
    "image_size = (128,128)\n",
    "from keras.preprocessing.image import img_to_array"
   ]
  },
  {
   "cell_type": "code",
   "execution_count": 4,
   "metadata": {},
   "outputs": [
    {
     "name": "stdout",
     "output_type": "stream",
     "text": [
      "Found 10658 files belonging to 149 classes.\n",
      "Using 8527 files for training.\n",
      "Found 10658 files belonging to 149 classes.\n",
      "Using 2131 files for validation.\n"
     ]
    }
   ],
   "source": [
    "##(X_train, y_train) filepath = \"../Images/test2.png\"\n",
    "from keras.preprocessing import image\n",
    "\n",
    "from keras.preprocessing import image_dataset_from_directory\n",
    "\n",
    "images = image_dataset_from_directory(\n",
    "  Path('dataset'),\n",
    "  validation_split=0.2,\n",
    "  subset=\"training\",\n",
    "  seed=42,\n",
    "  image_size=(image_size),\n",
    "  batch_size=32)\n",
    "\n",
    "val_ds = image_dataset_from_directory(\n",
    "  Path('dataset'),\n",
    "  validation_split=0.2,\n",
    "  subset=\"validation\",\n",
    "  seed=42,\n",
    "  image_size=(image_size),\n",
    "  batch_size=32)\n"
   ]
  },
  {
   "cell_type": "code",
   "execution_count": 81,
   "metadata": {},
   "outputs": [
    {
     "name": "stdout",
     "output_type": "stream",
     "text": [
      "['Abra', 'Aerodactyl', 'Alakazam', 'Arbok', 'Arcanine', 'Articuno', 'Beedrill', 'Bellsprout', 'Blastoise', 'Bulbasaur', 'Butterfree', 'Caterpie', 'Chansey', 'Charizard', 'Charmander', 'Charmeleon', 'Clefable', 'Clefairy', 'Cloyster', 'Cubone', 'Dewgong', 'Diglett', 'Ditto', 'Dodrio', 'Doduo', 'Dragonair', 'Dragonite', 'Dratini', 'Drowzee', 'Dugtrio', 'Eevee', 'Ekans', 'Electabuzz', 'Electrode', 'Exeggcute', 'Exeggutor', 'Farfetchd', 'Fearow', 'Flareon', 'Gastly', 'Gengar', 'Geodude', 'Gloom', 'Golbat', 'Goldeen', 'Golduck', 'Golem', 'Graveler', 'Grimer', 'Growlithe', 'Gyarados', 'Haunter', 'Hitmonchan', 'Hitmonlee', 'Horsea', 'Hypno', 'Ivysaur', 'Jigglypuff', 'Jolteon', 'Jynx', 'Kabuto', 'Kabutops', 'Kadabra', 'Kakuna', 'Kangaskhan', 'Kingler', 'Koffing', 'Krabby', 'Lapras', 'Lickitung', 'Machamp', 'Machoke', 'Machop', 'Magikarp', 'Magmar', 'Magnemite', 'Magneton', 'Mankey', 'Marowak', 'Meowth', 'Metapod', 'Mew', 'Mewtwo', 'Moltres', 'MrMime', 'Muk', 'Nidoking', 'Nidoqueen', 'Nidorina', 'Nidorino', 'Ninetales', 'Oddish', 'Omanyte', 'Omastar', 'Onix', 'Paras', 'Parasect', 'Persian', 'Pidgeot', 'Pidgeotto', 'Pidgey', 'Pikachu', 'Pinsir', 'Poliwag', 'Poliwhirl', 'Poliwrath', 'Ponyta', 'Porygon', 'Primeape', 'Psyduck', 'Raichu', 'Rapidash', 'Raticate', 'Rattata', 'Rhydon', 'Rhyhorn', 'Sandshrew', 'Sandslash', 'Scyther', 'Seadra', 'Seaking', 'Seel', 'Shellder', 'Slowbro', 'Slowpoke', 'Snorlax', 'Spearow', 'Squirtle', 'Starmie', 'Staryu', 'Tangela', 'Tauros', 'Tentacool', 'Tentacruel', 'Vaporeon', 'Venomoth', 'Venonat', 'Venusaur', 'Victreebel', 'Vileplume', 'Voltorb', 'Vulpix', 'Wartortle', 'Weedle', 'Weepinbell', 'Weezing', 'Wigglytuff', 'Zapdos', 'Zubat']\n"
     ]
    }
   ],
   "source": [
    "class_names = images.class_names\n",
    "num=len(class_names)\n",
    "print(class_names)\n"
   ]
  },
  {
   "cell_type": "markdown",
   "metadata": {},
   "source": [
    "## Building Model"
   ]
  },
  {
   "cell_type": "code",
   "execution_count": 6,
   "metadata": {},
   "outputs": [],
   "source": [
    "# Create an empty sequential model\n",
    "model = Sequential()"
   ]
  },
  {
   "cell_type": "code",
   "execution_count": 7,
   "metadata": {},
   "outputs": [],
   "source": [
    "# Add the first layer where the input dimensions are the 784 pixel values\n",
    "# We can also choose our activation function. `relu` is common\n",
    "model.add(layers.experimental.preprocessing.Rescaling(1./255, input_shape=(128, 128, 3)))\n",
    "data_augmentation = keras.Sequential(\n",
    "  [ \n",
    "      layers.experimental.preprocessing.RandomZoom(0.1),\n",
    "  ]\n",
    ")\n",
    "\n"
   ]
  },
  {
   "cell_type": "code",
   "execution_count": 8,
   "metadata": {},
   "outputs": [],
   "source": [
    "# Add a second, hidden layer\n"
   ]
  },
  {
   "cell_type": "code",
   "execution_count": 9,
   "metadata": {},
   "outputs": [],
   "source": [
    "from tensorflow.keras.models import Sequential\n",
    "data_augmentation = keras.Sequential(\n",
    "  [\n",
    "#     layers.experimental.preprocessing.RandomFlip(\"horizontal\", \n",
    "#                                                  input_shape=(128, \n",
    "#                                                               128,\n",
    "#                                                               3)),\n",
    "#     layers.experimental.preprocessing.RandomRotation(0.1),\n",
    "    layers.experimental.preprocessing.RandomZoom(0.1),\n",
    "  ]\n",
    ")"
   ]
  },
  {
   "cell_type": "code",
   "execution_count": 10,
   "metadata": {},
   "outputs": [
    {
     "name": "stdout",
     "output_type": "stream",
     "text": [
      "WARNING:tensorflow:Model was constructed with shape (None, 128, 128, 3) for input KerasTensor(type_spec=TensorSpec(shape=(None, 128, 128, 3), dtype=tf.float32, name='random_flip_input'), name='random_flip_input', description=\"created by layer 'random_flip_input'\"), but it was called on an input with incompatible shape (None, 63, 63, 128).\n"
     ]
    }
   ],
   "source": [
    "# Add our final output layer where the number of nodes \n",
    "# corresponds to the number of y labels\n",
    "model.add(data_augmentation)\n",
    "model.add(layers.MaxPooling2D((2,2)))\n",
    "model.add(layers.Conv2D(128,(3,3), activation=\"relu\", input_shape=(128,128,3)))\n",
    "model.add(layers.Conv2D(128,(3,3), activation=\"relu\"))\n",
    "model.add(layers.MaxPooling2D((2,2)))\n",
    "model.add(layers.Flatten())\n",
    "model.add(layers.Dropout(0.2))\n",
    "model.add(layers.Dense(64, activation=\"relu\"))\n",
    "model.add(layers.Dense(num))"
   ]
  },
  {
   "cell_type": "code",
   "execution_count": null,
   "metadata": {},
   "outputs": [],
   "source": []
  },
  {
   "cell_type": "code",
   "execution_count": 11,
   "metadata": {},
   "outputs": [
    {
     "name": "stdout",
     "output_type": "stream",
     "text": [
      "Model: \"sequential\"\n",
      "_________________________________________________________________\n",
      "Layer (type)                 Output Shape              Param #   \n",
      "=================================================================\n",
      "rescaling (Rescaling)        (None, 128, 128, 3)       0         \n",
      "_________________________________________________________________\n",
      "conv2d (Conv2D)              (None, 126, 126, 128)     3584      \n",
      "_________________________________________________________________\n",
      "max_pooling2d (MaxPooling2D) (None, 63, 63, 128)       0         \n",
      "_________________________________________________________________\n",
      "sequential_1 (Sequential)    (None, 128, 128, 3)       0         \n",
      "_________________________________________________________________\n",
      "conv2d_1 (Conv2D)            (None, 61, 61, 128)       147584    \n",
      "_________________________________________________________________\n",
      "max_pooling2d_1 (MaxPooling2 (None, 30, 30, 128)       0         \n",
      "_________________________________________________________________\n",
      "flatten (Flatten)            (None, 115200)            0         \n",
      "_________________________________________________________________\n",
      "dropout (Dropout)            (None, 115200)            0         \n",
      "_________________________________________________________________\n",
      "dense (Dense)                (None, 64)                7372864   \n",
      "_________________________________________________________________\n",
      "dense_1 (Dense)              (None, 149)               9685      \n",
      "=================================================================\n",
      "Total params: 7,533,717\n",
      "Trainable params: 7,533,717\n",
      "Non-trainable params: 0\n",
      "_________________________________________________________________\n"
     ]
    }
   ],
   "source": [
    "model.summary()"
   ]
  },
  {
   "cell_type": "code",
   "execution_count": 12,
   "metadata": {},
   "outputs": [],
   "source": [
    "from keras.losses import SparseCategoricalCrossentropy\n",
    "model.compile(loss=SparseCategoricalCrossentropy(from_logits=True), optimizer=\"adam\", metrics=['accuracy'])"
   ]
  },
  {
   "cell_type": "code",
   "execution_count": 22,
   "metadata": {},
   "outputs": [
    {
     "name": "stdout",
     "output_type": "stream",
     "text": [
      "Epoch 1/20\n",
      "267/267 - 357s - loss: 0.9690 - accuracy: 0.7137 - val_loss: 6.0496 - val_accuracy: 0.3548\n",
      "Epoch 2/20\n",
      "267/267 - 350s - loss: 0.9634 - accuracy: 0.7175 - val_loss: 6.5540 - val_accuracy: 0.3271\n",
      "Epoch 3/20\n",
      "267/267 - 350s - loss: 0.9704 - accuracy: 0.7106 - val_loss: 6.0873 - val_accuracy: 0.3444\n",
      "Epoch 4/20\n",
      "267/267 - 350s - loss: 0.9389 - accuracy: 0.7258 - val_loss: 6.4623 - val_accuracy: 0.3473\n",
      "Epoch 5/20\n",
      "267/267 - 351s - loss: 0.9208 - accuracy: 0.7272 - val_loss: 6.7186 - val_accuracy: 0.3369\n",
      "Epoch 6/20\n",
      "267/267 - 352s - loss: 0.9489 - accuracy: 0.7237 - val_loss: 6.2557 - val_accuracy: 0.3487\n",
      "Epoch 7/20\n",
      "267/267 - 351s - loss: 0.9521 - accuracy: 0.7248 - val_loss: 6.3473 - val_accuracy: 0.3393\n",
      "Epoch 8/20\n",
      "267/267 - 365s - loss: 0.9239 - accuracy: 0.7238 - val_loss: 6.4139 - val_accuracy: 0.3571\n",
      "Epoch 9/20\n",
      "267/267 - 396s - loss: 0.9060 - accuracy: 0.7300 - val_loss: 6.2881 - val_accuracy: 0.3510\n",
      "Epoch 10/20\n",
      "267/267 - 398s - loss: 0.9111 - accuracy: 0.7340 - val_loss: 6.5250 - val_accuracy: 0.3566\n",
      "Epoch 11/20\n",
      "267/267 - 395s - loss: 0.9314 - accuracy: 0.7259 - val_loss: 6.4774 - val_accuracy: 0.3496\n",
      "Epoch 12/20\n",
      "267/267 - 387s - loss: 0.9147 - accuracy: 0.7289 - val_loss: 6.1269 - val_accuracy: 0.3580\n",
      "Epoch 13/20\n",
      "267/267 - 412s - loss: 0.9035 - accuracy: 0.7343 - val_loss: 6.3195 - val_accuracy: 0.3548\n",
      "Epoch 14/20\n",
      "267/267 - 400s - loss: 0.9161 - accuracy: 0.7289 - val_loss: 6.2727 - val_accuracy: 0.3529\n",
      "Epoch 15/20\n",
      "267/267 - 399s - loss: 0.8926 - accuracy: 0.7389 - val_loss: 6.4788 - val_accuracy: 0.3552\n",
      "Epoch 16/20\n",
      "267/267 - 412s - loss: 0.8984 - accuracy: 0.7391 - val_loss: 7.0580 - val_accuracy: 0.3374\n",
      "Epoch 17/20\n",
      "267/267 - 425s - loss: 0.8973 - accuracy: 0.7355 - val_loss: 6.7105 - val_accuracy: 0.3477\n",
      "Epoch 18/20\n",
      "267/267 - 386s - loss: 0.8668 - accuracy: 0.7467 - val_loss: 6.5792 - val_accuracy: 0.3412\n",
      "Epoch 19/20\n",
      "267/267 - 384s - loss: 0.8762 - accuracy: 0.7460 - val_loss: 7.1293 - val_accuracy: 0.3304\n",
      "Epoch 20/20\n",
      "267/267 - 390s - loss: 0.8817 - accuracy: 0.7386 - val_loss: 6.9083 - val_accuracy: 0.3412\n"
     ]
    },
    {
     "data": {
      "text/plain": [
       "<tensorflow.python.keras.callbacks.History at 0x18ea25fb430>"
      ]
     },
     "execution_count": 22,
     "metadata": {},
     "output_type": "execute_result"
    }
   ],
   "source": [
    "# Fit (train) the model\n",
    "model.fit(images, epochs=20, validation_data=val_ds, verbose=2)"
   ]
  },
  {
   "cell_type": "code",
   "execution_count": 23,
   "metadata": {},
   "outputs": [],
   "source": [
    "# Save the model\n",
    "model.save(\"pokemon_trained.h5\")"
   ]
  },
  {
   "cell_type": "code",
   "execution_count": 24,
   "metadata": {},
   "outputs": [
    {
     "name": "stdout",
     "output_type": "stream",
     "text": [
      "WARNING:tensorflow:Model was constructed with shape (None, 128, 128, 3) for input KerasTensor(type_spec=TensorSpec(shape=(None, 128, 128, 3), dtype=tf.float32, name='random_flip_input'), name='random_flip_input', description=\"created by layer 'random_flip_input'\"), but it was called on an input with incompatible shape (None, 63, 63, 128).\n"
     ]
    }
   ],
   "source": [
    "# Load the model\n",
    "from keras.models import load_model\n",
    "model = load_model(\"pokemon_trained.h5\")"
   ]
  },
  {
   "cell_type": "markdown",
   "metadata": {},
   "source": [
    "## 5. Evaluating the Model\n",
    "\n",
    "We use our testing data to validate our model. This is how we determine the validity of our model (i.e. the ability to predict new and previously unseen data points)"
   ]
  },
  {
   "cell_type": "code",
   "execution_count": 25,
   "metadata": {},
   "outputs": [
    {
     "name": "stdout",
     "output_type": "stream",
     "text": [
      "WARNING:tensorflow:Model was constructed with shape (None, 128, 128, 3) for input KerasTensor(type_spec=TensorSpec(shape=(None, 128, 128, 3), dtype=tf.float32, name='random_flip_input'), name='random_flip_input', description=\"created by layer 'random_flip_input'\"), but it was called on an input with incompatible shape (None, 63, 63, 128).\n",
      "67/67 - 22s - loss: 6.9083 - accuracy: 0.3412\n",
      "Loss: 6.908335208892822, Accuracy: 0.34115439653396606\n"
     ]
    }
   ],
   "source": [
    "# Evaluate the model using the training data \n",
    "model_loss, model_accuracy = model.evaluate(val_ds, verbose=2)\n",
    "print(f\"Loss: {model_loss}, Accuracy: {model_accuracy}\")"
   ]
  },
  {
   "cell_type": "markdown",
   "metadata": {},
   "source": [
    "## Random Test of Code"
   ]
  },
  {
   "cell_type": "code",
   "execution_count": 26,
   "metadata": {},
   "outputs": [
    {
     "name": "stdout",
     "output_type": "stream",
     "text": [
      "67/67 - 22s - loss: 6.9083 - accuracy: 0.3412\n"
     ]
    },
    {
     "data": {
      "text/plain": [
       "[6.908333778381348, 0.34115439653396606]"
      ]
     },
     "execution_count": 26,
     "metadata": {},
     "output_type": "execute_result"
    }
   ],
   "source": [
    "# test_images, test_labels = val_ds\n",
    "model.evaluate(val_ds, verbose=2)"
   ]
  },
  {
   "cell_type": "code",
   "execution_count": 38,
   "metadata": {},
   "outputs": [
    {
     "name": "stderr",
     "output_type": "stream",
     "text": [
      "  % Total    % Received % Xferd  Average Speed   Time    Time     Time  Current\n",
      "                                 Dload  Upload   Total   Spent    Left  Speed\n",
      "\n",
      "  0     0    0     0    0     0      0      0 --:--:-- --:--:-- --:--:--     0\n",
      "  0     0    0     0    0     0      0      0 --:--:-- --:--:-- --:--:--     0\n"
     ]
    }
   ],
   "source": [
    "!curl http://cdn.bulbagarden.net/upload/3/39/007Squirtle.png"
   ]
  },
  {
   "cell_type": "code",
   "execution_count": 85,
   "metadata": {},
   "outputs": [
    {
     "name": "stdout",
     "output_type": "stream",
     "text": [
      "Downloading data from https://www.serebii.net/pokemon/art/053.png\n",
      "122880/118816 [===============================] - 0s 1us/step\n",
      "This image most likely belongs to Mankey with a 99.85 percent confidence.\n"
     ]
    },
    {
     "data": {
      "image/png": "[encoded data removed]",
      "text/plain": [
       "<Figure size 432x288 with 1 Axes>"
      ]
     },
     "metadata": {
      "needs_background": "light"
     },
     "output_type": "display_data"
    }
   ],
   "source": [
    "import matplotlib.pyplot as plt\n",
    "from urllib.error import HTTPError\n",
    "\n",
    "# https://www.clipartmax.com/png/middle/123-1236909_homerchu-homer-pikachu.png\n",
    "#Path('dataset/Pidgeot/988f8c3307ca4a55a47e940681f63059.jpg')\n",
    "#.jpg\n",
    "#sunflower_path = tf.keras.utils.get_file('Red_sunflower', origin=sunflower_url)\n",
    "try:\n",
    "    sunflower_urls = f\"https://www.serebii.net/pokemon/art/053.png\"\n",
    "    # print(sunflower_urls)\n",
    "    # for image_ in sunflower_urls:\n",
    "    sunflower_path = tf.keras.utils.get_file(str(np.random.randint(5**5)),origin=sunflower_urls)\n",
    "    img = keras.preprocessing.image.load_img(\n",
    "        sunflower_path, target_size=(128,128)\n",
    "    )\n",
    "    plt.imshow(img)\n",
    "except Exception:\n",
    "    pass\n",
    "img_array = keras.preprocessing.image.img_to_array(img)\n",
    "img_array = tf.expand_dims(img_array, 0) # Create a batch\n",
    "\n",
    "predictions = model.predict(img_array)\n",
    "score = tf.nn.softmax(predictions[0])\n",
    "\n",
    "print(\n",
    "    \"This image most likely belongs to {} with a {:.2f} percent confidence.\"\n",
    "    .format(class_names[np.argmax(score)], 100 * np.max(score))\n",
    ")\n",
    "\n",
    "# #print(img_array)"
   ]
  }
 ],
 "metadata": {
  "kernelspec": {
   "display_name": "Python 3",
   "language": "python",
   "name": "python3"
  },
  "language_info": {
   "codemirror_mode": {
    "name": "ipython",
    "version": 3
   },
   "file_extension": ".py",
   "mimetype": "text/x-python",
   "name": "python",
   "nbconvert_exporter": "python",
   "pygments_lexer": "ipython3",
   "version": "3.7.6"
  }
 },
 "nbformat": 4,
 "nbformat_minor": 4
}
